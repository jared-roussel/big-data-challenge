{
  "nbformat": 4,
  "nbformat_minor": 0,
  "metadata": {
    "anaconda-cloud": {},
    "colab": {
      "name": "amazon_music_reviews.ipynb",
      "provenance": [],
      "include_colab_link": true
    },
    "kernel_info": {
      "name": "python3"
    },
    "kernelspec": {
      "display_name": "Python 3",
      "language": "python",
      "name": "python3"
    },
    "language_info": {
      "codemirror_mode": {
        "name": "ipython",
        "version": 3
      },
      "file_extension": ".py",
      "mimetype": "text/x-python",
      "name": "python",
      "nbconvert_exporter": "python",
      "pygments_lexer": "ipython3",
      "version": "3.7.4"
    },
    "nteract": {
      "version": "0.11.2"
    },
    "varInspector": {
      "cols": {
        "lenName": 16,
        "lenType": 16,
        "lenVar": 40
      },
      "kernels_config": {
        "python": {
          "delete_cmd_postfix": "",
          "delete_cmd_prefix": "del ",
          "library": "var_list.py",
          "varRefreshCmd": "print(var_dic_list())"
        },
        "r": {
          "delete_cmd_postfix": ") ",
          "delete_cmd_prefix": "rm(",
          "library": "var_list.r",
          "varRefreshCmd": "cat(var_dic_list()) "
        }
      },
      "types_to_exclude": [
        "module",
        "function",
        "builtin_function_or_method",
        "instance",
        "_Feature"
      ],
      "window_display": false
    }
  },
  "cells": [
    {
      "cell_type": "markdown",
      "metadata": {
        "id": "view-in-github",
        "colab_type": "text"
      },
      "source": [
        "<a href=\"https://colab.research.google.com/github/jared-roussel/big-data-challenge/blob/main/level-1/amazon_music_reviews.ipynb\" target=\"_parent\"><img src=\"https://colab.research.google.com/assets/colab-badge.svg\" alt=\"Open In Colab\"/></a>"
      ]
    },
    {
      "cell_type": "code",
      "metadata": {
        "colab": {
          "base_uri": "https://localhost:8080/"
        },
        "id": "7kufI1HuEzk5",
        "outputId": "4dad2939-2bd0-48da-eaff-fd7b6e8a6b64"
      },
      "source": [
        "import os\n",
        "# Find the latest version of spark 3.0  from http://www.apache.org/dist/spark/ and enter as the spark version\n",
        "# For example:\n",
        "spark_version = 'spark-3.0.3'\n",
        "#spark_version = 'spark-3.<enter version>'\n",
        "os.environ['SPARK_VERSION']=spark_version\n",
        "\n",
        "# Install Spark and Java\n",
        "!apt-get update\n",
        "!apt-get install openjdk-8-jdk-headless -qq > /dev/null\n",
        "!wget -q http://www.apache.org/dist/spark/$SPARK_VERSION/$SPARK_VERSION-bin-hadoop2.7.tgz\n",
        "!tar xf $SPARK_VERSION-bin-hadoop2.7.tgz\n",
        "!pip install -q findspark\n",
        "\n",
        "# Set Environment Variables\n",
        "os.environ[\"JAVA_HOME\"] = \"/usr/lib/jvm/java-8-openjdk-amd64\"\n",
        "os.environ[\"SPARK_HOME\"] = f\"/content/{spark_version}-bin-hadoop2.7\"\n",
        "\n",
        "# Start a SparkSession\n",
        "import findspark\n",
        "findspark.init()\n",
        "\n",
        "!pyspark --packages org.postgresql:postgresql:42.2.10"
      ],
      "execution_count": 15,
      "outputs": [
        {
          "output_type": "stream",
          "name": "stdout",
          "text": [
            "Hit:1 https://cloud.r-project.org/bin/linux/ubuntu bionic-cran40/ InRelease\n",
            "Ign:2 https://developer.download.nvidia.com/compute/cuda/repos/ubuntu1804/x86_64  InRelease\n",
            "Ign:3 https://developer.download.nvidia.com/compute/machine-learning/repos/ubuntu1804/x86_64  InRelease\n",
            "Hit:4 https://developer.download.nvidia.com/compute/cuda/repos/ubuntu1804/x86_64  Release\n",
            "Hit:5 https://developer.download.nvidia.com/compute/machine-learning/repos/ubuntu1804/x86_64  Release\n",
            "Hit:6 http://archive.ubuntu.com/ubuntu bionic InRelease\n",
            "Get:7 http://security.ubuntu.com/ubuntu bionic-security InRelease [88.7 kB]\n",
            "Hit:8 http://ppa.launchpad.net/c2d4u.team/c2d4u4.0+/ubuntu bionic InRelease\n",
            "Get:9 http://archive.ubuntu.com/ubuntu bionic-updates InRelease [88.7 kB]\n",
            "Hit:10 http://ppa.launchpad.net/cran/libgit2/ubuntu bionic InRelease\n",
            "Hit:12 http://ppa.launchpad.net/deadsnakes/ppa/ubuntu bionic InRelease\n",
            "Get:14 http://archive.ubuntu.com/ubuntu bionic-backports InRelease [74.6 kB]\n",
            "Hit:15 http://ppa.launchpad.net/graphics-drivers/ppa/ubuntu bionic InRelease\n",
            "Fetched 252 kB in 2s (108 kB/s)\n",
            "Reading package lists... Done\n",
            "/bin/bash: pyspark: command not found\n"
          ]
        }
      ]
    },
    {
      "cell_type": "code",
      "metadata": {
        "id": "ADYQdkdUSAnn"
      },
      "source": [
        "# Start Spark session\n",
        "from pyspark.sql import SparkSession\n",
        "spark = SparkSession.builder.appName(\"sparkDates\").getOrCreate()"
      ],
      "execution_count": 2,
      "outputs": []
    },
    {
      "cell_type": "code",
      "metadata": {
        "colab": {
          "base_uri": "https://localhost:8080/"
        },
        "id": "6CdXs43NC-oE",
        "outputId": "c7afdfa1-2eba-4835-c1cc-05bd1994c36a"
      },
      "source": [
        "# Load in data\n",
        "from pyspark import SparkFiles\n",
        "music_url =\"https://s3.amazonaws.com/amazon-reviews-pds/tsv/amazon_reviews_us_Music_v1_00.tsv.gz\"\n",
        "spark.sparkContext.addFile(music_url)\n",
        "df = spark.read.csv(SparkFiles.get(\"amazon_reviews_us_Music_v1_00.tsv.gz\"), sep=\"\\t\", header=True, inferSchema=True, timestampFormat=\"yyyy/MM/dd HH:mm:ss\")\n",
        "df.show()"
      ],
      "execution_count": 3,
      "outputs": [
        {
          "output_type": "stream",
          "name": "stdout",
          "text": [
            "+-----------+-----------+--------------+----------+--------------+--------------------+----------------+-----------+-------------+-----------+----+-----------------+--------------------+--------------------+-----------+\n",
            "|marketplace|customer_id|     review_id|product_id|product_parent|       product_title|product_category|star_rating|helpful_votes|total_votes|vine|verified_purchase|     review_headline|         review_body|review_date|\n",
            "+-----------+-----------+--------------+----------+--------------+--------------------+----------------+-----------+-------------+-----------+----+-----------------+--------------------+--------------------+-----------+\n",
            "|         US|   10140119|R3LI5TRP3YIDQL|B00TXH4OLC|     384427924|Whatever's for Us...|           Music|          5|            0|          0|   N|                Y|          Five Stars|Love this CD alon...| 2015-08-31|\n",
            "|         US|   27664622|R3LGC3EKEG84PX|B00B6QXN6U|     831769051|Same Trailer Diff...|           Music|          5|            0|          0|   N|                Y|A new fave in our...|This is the album...| 2015-08-31|\n",
            "|         US|   45946560| R9PYL3OYH55QY|B001GCZXW6|      14067376| Soaring (Jazz Club)|           Music|          5|            0|          1|   N|                Y|          Five Stars|  Excellent / thanks| 2015-08-31|\n",
            "|         US|   15146326|R3PWBAWUS4NT0Q|B000003EK6|     566295619|     CARIBBEAN PARTY|           Music|          3|            0|          0|   N|                Y|         Three Stars|Nice variety of c...| 2015-08-31|\n",
            "|         US|   16794688|R15LYP3O51UU9E|B00N1F0BKK|     210426072|         Pain Killer|           Music|          5|            0|          0|   N|                Y|          Five Stars|Purchased as a gi...| 2015-08-31|\n",
            "|         US|   32203364|R1AD7L0CC3DSRI|B00V7KAO7Q|     360249504|A Thoughtiverse U...|           Music|          5|            0|          0|   N|                Y|Definitely worth ...|Really enjoyed th...| 2015-08-31|\n",
            "|         US|    1194276|R32FE8Y45QV434|B000094Q4P|      20972283|Comfort of Her Wings|           Music|          5|            0|          0|   N|                Y|          Five Stars|            Great CD| 2015-08-31|\n",
            "|         US|   45813052|R3NM4MZ4XWL43Q|B00JMK0P1I|     378049560|Sleep Soundly CD ...|           Music|          5|            1|          2|   N|                Y|          Five Stars|       Excellent CD!| 2015-08-31|\n",
            "|         US|   12795687|R3H4FXX6Q7I37D|B008OW1S3O|     141620702|     An Awesome Wave|           Music|          4|            0|          0|   N|                Y|          Four Stars|                nice| 2015-08-31|\n",
            "|         US|   36673840|R30L5PET7LFFDC|B00VI2L3L4|     920557135|          Blurryface|           Music|          5|            1|          1|   N|                Y|        Outstanding!|Outstanding music...| 2015-08-31|\n",
            "|         US|   49453576|  REFRE1LEKLAF|B0000041EV|     683128964|Mozart For Mother...|           Music|          4|            1|          1|   N|                Y|          Four Stars|      quite relaxing| 2015-08-31|\n",
            "|         US|    3285047|R3JTJ5EQN74E9H|B00005YW4H|     268461622|   Come Away with Me|           Music|          5|            0|          0|   N|                Y|          Five Stars|I love this CD.  ...| 2015-08-31|\n",
            "|         US|   24471201|R1W2F091LCOAW5|B00Q9KEZV0|     444090572| Tomorrow Is My Turn|           Music|          5|            0|          0|   N|                Y|FIve Stars and Th...|Rhiannon Giddens ...| 2015-08-31|\n",
            "|         US|   28049396| RYUMFQRRB1FNM|B00GFXRKHW|     482597726|       The Outsiders|           Music|          3|            0|          0|   N|                Y|         Three Stars|Wrecking Ball is ...| 2015-08-31|\n",
            "|         US|   41137196| RHCS6VVXWV3Q3|B004L3AQ10|     609457123|  The Lincoln Lawyer|           Music|          5|            0|          0|   N|                Y|          Five Stars|I was pleased wit...| 2015-08-31|\n",
            "|         US|   43305401|R35UL1YZ2142SL|B0000025PM|     125399885|Bach: Goldberg Va...|           Music|          5|            0|          0|   N|                Y|   The Creative Flow|The music that in...| 2015-08-31|\n",
            "|         US|   50808489|  RU1O6QD1LEBB|B00701QUN8|     144457491|Quiet Riot - Grea...|           Music|          5|            0|          0|   N|                Y|          Five Stars|   Excellent CD&#62;| 2015-08-31|\n",
            "|         US|   15536614|R36RXVL3XIZFH7|B003UJC2QI|     207971309|Love Or Money/Lov...|           Music|          5|            0|          0|   N|                N|    Great Pop Single|Love Or Money by ...| 2015-08-31|\n",
            "|         US|   32536909|R16O7SHYHLEYA1|B00LGA16J2|     760666287|Jonas Kaufmann - ...|           Music|          5|            0|          0|   N|                Y|          Five Stars|      Just splendid!| 2015-08-31|\n",
            "|         US|   51160312|R1Y5GX65Z2V9BG|B00ZGVMLLE|      37408836|        Clockworking|           Music|          5|            0|          0|   N|                N|Glorious Glorious...|One of my favorit...| 2015-08-31|\n",
            "+-----------+-----------+--------------+----------+--------------+--------------------+----------------+-----------+-------------+-----------+----+-----------------+--------------------+--------------------+-----------+\n",
            "only showing top 20 rows\n",
            "\n"
          ]
        }
      ]
    },
    {
      "cell_type": "code",
      "metadata": {
        "colab": {
          "base_uri": "https://localhost:8080/"
        },
        "id": "wGs8eT4MC-oQ",
        "outputId": "3a02d291-8ce1-4d1a-d042-0f0bc10312b5"
      },
      "source": [
        "# Show schema to confirm date type\n",
        "df.printSchema()"
      ],
      "execution_count": 4,
      "outputs": [
        {
          "output_type": "stream",
          "name": "stdout",
          "text": [
            "root\n",
            " |-- marketplace: string (nullable = true)\n",
            " |-- customer_id: integer (nullable = true)\n",
            " |-- review_id: string (nullable = true)\n",
            " |-- product_id: string (nullable = true)\n",
            " |-- product_parent: integer (nullable = true)\n",
            " |-- product_title: string (nullable = true)\n",
            " |-- product_category: string (nullable = true)\n",
            " |-- star_rating: integer (nullable = true)\n",
            " |-- helpful_votes: integer (nullable = true)\n",
            " |-- total_votes: integer (nullable = true)\n",
            " |-- vine: string (nullable = true)\n",
            " |-- verified_purchase: string (nullable = true)\n",
            " |-- review_headline: string (nullable = true)\n",
            " |-- review_body: string (nullable = true)\n",
            " |-- review_date: string (nullable = true)\n",
            "\n"
          ]
        }
      ]
    },
    {
      "cell_type": "code",
      "metadata": {
        "id": "xOxB8sL5BPLi"
      },
      "source": [
        "#Remove duplicates and null values before importing into postgres\n",
        "df = df.drop_duplicates()\n",
        "df = df.dropna()\n",
        "#df"
      ],
      "execution_count": 5,
      "outputs": []
    },
    {
      "cell_type": "markdown",
      "metadata": {
        "id": "-j1rI0-t_XnR"
      },
      "source": [
        ""
      ]
    },
    {
      "cell_type": "code",
      "metadata": {
        "id": "L-xmCyYl7bhZ",
        "outputId": "5a4d5003-00d7-41bb-ca1b-78f0eb1faae4",
        "colab": {
          "base_uri": "https://localhost:8080/"
        }
      },
      "source": [
        "#Make data fit schema\n",
        "music_review_id = df.select([\"review_id\",\"customer_id\",\"product_id\",\"product_parent\",\"review_date\"])\n",
        "music_review_id.show(10)"
      ],
      "execution_count": 9,
      "outputs": [
        {
          "output_type": "stream",
          "name": "stdout",
          "text": [
            "+--------------+-----------+----------+--------------+-----------+\n",
            "|     review_id|customer_id|product_id|product_parent|review_date|\n",
            "+--------------+-----------+----------+--------------+-----------+\n",
            "|R1005BINTGKCVE|   18789304|B000002J6H|     480387571| 2013-01-29|\n",
            "|R10067SN6FSII1|   32818060|B00005BCY9|     926227231| 2003-01-19|\n",
            "|R100NGDZ6CAL8E|   32318800|B0000AB13N|     711057433| 2003-08-04|\n",
            "|R100OLMAO039IL|   50673975|B000002SZA|     632006013| 2009-09-10|\n",
            "| R100OMDUXE5VZ|   52503259|B000056KSU|     155726790| 2003-02-08|\n",
            "|R100RJOC7TCXN6|   47602845|B005G492CC|     819279192| 2014-06-03|\n",
            "|R10182KW3O6486|   52776942|B000031WEY|     719850793| 2004-04-23|\n",
            "|R101B8W76YQILD|   12264663|B000BM7YYW|     364079538| 2006-03-10|\n",
            "|R101K97ELZLSDK|   51870288|B00006NSDJ|     319548298| 2003-07-28|\n",
            "|R101MMM4IXONBO|   43769541|B00C4XYEFS|     319009128| 2014-03-27|\n",
            "+--------------+-----------+----------+--------------+-----------+\n",
            "only showing top 10 rows\n",
            "\n"
          ]
        }
      ]
    },
    {
      "cell_type": "code",
      "metadata": {
        "id": "AWlbD8TyAyyq",
        "outputId": "1fa4b453-b65e-4b61-9033-70dab5f442a9",
        "colab": {
          "base_uri": "https://localhost:8080/"
        }
      },
      "source": [
        "music_products = df.select([\"product_id\",\"product_title\"])\n",
        "music_products.show()"
      ],
      "execution_count": 7,
      "outputs": [
        {
          "output_type": "stream",
          "name": "stdout",
          "text": [
            "+----------+--------------------+\n",
            "|product_id|       product_title|\n",
            "+----------+--------------------+\n",
            "|B000002J6H|      Stephen Stills|\n",
            "|B00005BCY9|      Do You Love Me|\n",
            "|B0000AB13N|        Project 1950|\n",
            "|B000002SZA|My Christmas Favo...|\n",
            "|B000056KSU|Os Sonhos Mas Lindos|\n",
            "|B005G492CC|            The Help|\n",
            "|B000031WEY|Bad Channels - So...|\n",
            "|B000BM7YYW|       Walk the Line|\n",
            "|B00006NSDJ|    Oh So Many Years|\n",
            "|B00C4XYEFS|Bennett & Brubeck...|\n",
            "|B000002WR7|If Every Day Was ...|\n",
            "|B000002GNQ|          Wavelength|\n",
            "|B000KEGH7Q|Bye-Bye Cigarette...|\n",
            "|B0002VEU7Q|Diplomatic Immuni...|\n",
            "|B00005M989|The Very Best of ...|\n",
            "|B00F2HW20M|Genesis Revisited...|\n",
            "|B00LH98PEG|      Ragged & Dirty|\n",
            "|B000CQQHGI|The Definitive Co...|\n",
            "|B00000AW34|         Full Circle|\n",
            "|B001C0CJLU|Classic Album Col...|\n",
            "+----------+--------------------+\n",
            "only showing top 20 rows\n",
            "\n"
          ]
        }
      ]
    },
    {
      "cell_type": "code",
      "metadata": {
        "id": "7mMMPRMMTdzV",
        "outputId": "e6cc8c25-f69f-42b4-cd76-82fb2a0e4af8",
        "colab": {
          "base_uri": "https://localhost:8080/"
        }
      },
      "source": [
        "music_customers = df.select([\"product_id\",\"product_title\"])\n",
        "music_customers.show()"
      ],
      "execution_count": 10,
      "outputs": [
        {
          "output_type": "stream",
          "name": "stdout",
          "text": [
            "+----------+--------------------+\n",
            "|product_id|       product_title|\n",
            "+----------+--------------------+\n",
            "|B000002J6H|      Stephen Stills|\n",
            "|B00005BCY9|      Do You Love Me|\n",
            "|B0000AB13N|        Project 1950|\n",
            "|B000002SZA|My Christmas Favo...|\n",
            "|B000056KSU|Os Sonhos Mas Lindos|\n",
            "|B005G492CC|            The Help|\n",
            "|B000031WEY|Bad Channels - So...|\n",
            "|B000BM7YYW|       Walk the Line|\n",
            "|B00006NSDJ|    Oh So Many Years|\n",
            "|B00C4XYEFS|Bennett & Brubeck...|\n",
            "|B000002WR7|If Every Day Was ...|\n",
            "|B000002GNQ|          Wavelength|\n",
            "|B000KEGH7Q|Bye-Bye Cigarette...|\n",
            "|B0002VEU7Q|Diplomatic Immuni...|\n",
            "|B00005M989|The Very Best of ...|\n",
            "|B00F2HW20M|Genesis Revisited...|\n",
            "|B00LH98PEG|      Ragged & Dirty|\n",
            "|B000CQQHGI|The Definitive Co...|\n",
            "|B00000AW34|         Full Circle|\n",
            "|B001C0CJLU|Classic Album Col...|\n",
            "+----------+--------------------+\n",
            "only showing top 20 rows\n",
            "\n"
          ]
        }
      ]
    },
    {
      "cell_type": "code",
      "metadata": {
        "id": "eU6SlWOeUnf_"
      },
      "source": [
        ""
      ],
      "execution_count": null,
      "outputs": []
    },
    {
      "cell_type": "code",
      "metadata": {
        "id": "qlpo4iHsC-oV"
      },
      "source": [
        "# Import date time functions\n",
        "from pyspark.sql.functions import year\n",
        "\n",
        "# Show the year for the date column\n",
        "#df.select(year(df[\"date\"])).show()"
      ],
      "execution_count": 8,
      "outputs": []
    },
    {
      "cell_type": "code",
      "metadata": {
        "id": "0afADD07C-o9",
        "outputId": "8faedfe7-7d1e-41d3-f46f-2194d4e8ec9a",
        "colab": {
          "base_uri": "https://localhost:8080/"
        }
      },
      "source": [
        "music_vine_table = df.select([\"review_id\",\"star_rating\",\"helpful_votes\", \"total_votes\", \"vine\" ])\n",
        "music_vine_table.show()"
      ],
      "execution_count": 11,
      "outputs": [
        {
          "output_type": "stream",
          "name": "stdout",
          "text": [
            "+--------------+-----------+-------------+-----------+----+\n",
            "|     review_id|star_rating|helpful_votes|total_votes|vine|\n",
            "+--------------+-----------+-------------+-----------+----+\n",
            "|R1005BINTGKCVE|          5|            0|          0|   N|\n",
            "|R10067SN6FSII1|          4|            0|          0|   N|\n",
            "|R100NGDZ6CAL8E|          1|            2|          2|   N|\n",
            "|R100OLMAO039IL|          3|            2|          2|   N|\n",
            "| R100OMDUXE5VZ|          4|            0|          0|   N|\n",
            "|R100RJOC7TCXN6|          5|            2|          2|   N|\n",
            "|R10182KW3O6486|          4|            5|          6|   N|\n",
            "|R101B8W76YQILD|          4|            5|          5|   N|\n",
            "|R101K97ELZLSDK|          4|            7|          9|   N|\n",
            "|R101MMM4IXONBO|          5|            0|          0|   N|\n",
            "|R101SUFE1N98DO|          5|            3|          6|   N|\n",
            "|R101Y7O5QCTMH4|          4|            5|          7|   N|\n",
            "|R1020J9O3H1F52|          5|            0|          0|   N|\n",
            "|R1024GZRHXWW2F|          1|            1|          2|   N|\n",
            "|R103EUU3ICAABC|          5|            0|          0|   N|\n",
            "|R103OL7G6UH70D|          5|            0|          1|   N|\n",
            "|R103QUGXS88G3Q|          5|            0|          0|   N|\n",
            "|R103YQAYYNDIFQ|          3|            0|          1|   N|\n",
            "|R1042TMC188EN8|          5|            0|          0|   N|\n",
            "| R10469QWP5237|          5|            0|          0|   N|\n",
            "+--------------+-----------+-------------+-----------+----+\n",
            "only showing top 20 rows\n",
            "\n"
          ]
        }
      ]
    },
    {
      "cell_type": "code",
      "metadata": {
        "id": "fNmnKKNBV2Jd"
      },
      "source": [
        "#Create connection to postgres\n",
        "mode=\"append\"\n",
        "jdbc_url = \"jdbc:postgresql://<>:5432/<>\"\n",
        "config = {\"user\":\"<>\",\n",
        "          \"password\": \"<>\",\n",
        "          \"driver\":\"org.postgresql.Driver\"}"
      ],
      "execution_count": 12,
      "outputs": []
    },
    {
      "cell_type": "code",
      "metadata": {
        "id": "r-eYHAdIW4tw"
      },
      "source": [
        "music_vine_table.write.jdbc(url = jdbc_url, table = 'music_vine_table', mode = mode, properties = config)"
      ],
      "execution_count": 16,
      "outputs": []
    }
  ]
}